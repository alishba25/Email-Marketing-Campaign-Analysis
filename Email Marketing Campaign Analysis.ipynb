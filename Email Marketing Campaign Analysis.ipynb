{
 "cells": [
  {
   "cell_type": "markdown",
   "id": "b45e21cf-349a-4491-af64-8df15c9ba247",
   "metadata": {},
   "source": [
    "# Email Marketing Campaign Analysis\n",
    "\n",
    "## Overview\n",
    "This project evaluates an email campaign for an e-commerce site to optimize future sends.\n",
    "\n",
    "**Goal**: Measure performance, predict link clicks, estimate improvements, and find user patterns.\n",
    "\n",
    "**Data**:\n",
    "- **email_table**: Email details (text, version, time, user country, purchases)\n",
    "- **email_opened_table**: Emails opened.\n",
    "- **link_clicked_table**: Emails with link clicks.\n",
    "\n",
    "**Questions**:\n",
    "1. What % of users opened and clicked?\n",
    "2. Can we model who clicks the link?\n",
    "3. How much better would the model be?\n",
    "4. Any patterns by user segment?"
   ]
  },
  {
   "cell_type": "code",
   "execution_count": 1,
   "id": "180e1b39-5ab3-41a7-bb0d-c31afee720ae",
   "metadata": {},
   "outputs": [],
   "source": [
    "import pandas as pd\n",
    "import numpy as np\n",
    "from sklearn.model_selection import train_test_split\n",
    "from sklearn.ensemble import RandomForestClassifier\n",
    "from sklearn.metrics import classification_report\n",
    "from sklearn.preprocessing import LabelEncoder\n",
    "import matplotlib.pyplot as plt"
   ]
  },
  {
   "cell_type": "code",
   "execution_count": 2,
   "id": "cfb9c20a-7854-4aa8-a83a-ee1d6d0e49c8",
   "metadata": {},
   "outputs": [],
   "source": [
    "email_table = pd.read_csv('email_table.csv')\n",
    "email_opened_table = pd.read_csv('email_opened_table.csv')\n",
    "link_clicked_table = pd.read_csv('link_clicked_table.csv')"
   ]
  },
  {
   "cell_type": "markdown",
   "id": "2f450d11-566e-4d6b-873f-ef7cfe57f449",
   "metadata": {},
   "source": [
    "## Q1: Open and Click-Through Rates\n",
    "\n",
    "Calculate the percentage of users who:\n",
    "- Opened the email\n",
    "- Clicked the link inside\n",
    "\n",
    "### Q1 Method\n",
    "The open rate is calculated as the number of opened emails (from `email_opened_table`) divided by total emails sent (from `email_table`). The click-through rate uses the number of link clicks (from `link_clicked_table`) divided by total emails. Both are expressed as percentages."
   ]
  },
  {
   "cell_type": "code",
   "execution_count": 3,
   "id": "8805ed6d-7377-4137-bfbc-ffcb10025ce0",
   "metadata": {},
   "outputs": [],
   "source": [
    "total_emails = len(email_table)\n",
    "opens = len(email_opened_table)\n",
    "clicks = len(link_clicked_table)\n",
    "open_rate = (opens / total_emails) * 100\n",
    "click_rate = (clicks / total_emails) * 100"
   ]
  },
  {
   "cell_type": "code",
   "execution_count": 4,
   "id": "b0a078d6-38fb-4030-9bee-fa1817929460",
   "metadata": {},
   "outputs": [
    {
     "name": "stdout",
     "output_type": "stream",
     "text": [
      "Open Rate:  10.35%\n",
      "Click-through rate:  2.12%\n"
     ]
    }
   ],
   "source": [
    "print(f\"Open Rate: {open_rate: .2f}%\")\n",
    "print(f\"Click-through rate: {click_rate: .2f}%\")"
   ]
  },
  {
   "cell_type": "markdown",
   "id": "ca2ee256-4801-483c-a4d3-38b6e8414855",
   "metadata": {},
   "source": [
    "Open rate is 10.35%, and click-through rate is 2.12%, calculated from the email, opened, and clicked tables."
   ]
  },
  {
   "cell_type": "markdown",
   "id": "39183272-de81-4eea-8aa5-bda051ac2aaa",
   "metadata": {},
   "source": [
    "## Q2: Predicting Link Clicks\n",
    "\n",
    "Build a Random Forest model to identify users likely to click the link, using:\n",
    "- Email text/version\n",
    "- Send time\n",
    "- User country/purchases\n",
    "\n",
    "### Q2 Approach\n",
    "A **Random Forest Classifier** was chosen for its ability to handle imbalanced data and capture non-linear patterns in features like email timing and user behavior. Categorical variables (e.g., email text, country) are encoded using `LabelEncoder` to prepare numerical inputs for the model."
   ]
  },
  {
   "cell_type": "code",
   "execution_count": 17,
   "id": "e9cffecb-13c4-4243-8c9c-0d924ec7373a",
   "metadata": {},
   "outputs": [],
   "source": [
    "# Mark emails as opened (1) or not (0) based on email_opened_table\n",
    "email_table['opened'] = email_table['email_id'].isin(email_opened_table['email_id']).astype(int)\n",
    "email_table['clicked'] = email_table['email_id'].isin(link_clicked_table['email_id']).astype(int)"
   ]
  },
  {
   "cell_type": "code",
   "execution_count": 18,
   "id": "b3d41f27-3dc4-44a1-bf3b-d74242d5432a",
   "metadata": {},
   "outputs": [],
   "source": [
    "#To encode categorical variables as numbers\n",
    "le_text = LabelEncoder()\n",
    "le_version = LabelEncoder()\n",
    "le_country = LabelEncoder()\n",
    "le_weekday = LabelEncoder()\n",
    "\n",
    "email_table['email_text_encoded'] = le_text.fit_transform(email_table['email_text'])\n",
    "email_table['email_version_encoded'] = le_version.fit_transform(email_table['email_version'])\n",
    "email_table['user_country_encoded'] = le_country.fit_transform(email_table['user_country'])\n",
    "email_table['weekday_encoded'] = le_weekday.fit_transform(email_table['weekday'])"
   ]
  },
  {
   "cell_type": "code",
   "execution_count": 7,
   "id": "b0c266ff-76ca-4642-9596-758c3c7a0b25",
   "metadata": {},
   "outputs": [],
   "source": [
    "#Features and Target\n",
    "features = ['email_text_encoded', 'email_version_encoded', 'hour', 'weekday_encoded', \n",
    "            'user_country_encoded', 'user_past_purchases']\n",
    "X = email_table[features]\n",
    "y = email_table['clicked']"
   ]
  },
  {
   "cell_type": "code",
   "execution_count": 8,
   "id": "929162ab-d483-4b67-8ee3-744fdd84e770",
   "metadata": {},
   "outputs": [
    {
     "data": {
      "text/html": [
       "<style>#sk-container-id-1 {\n",
       "  /* Definition of color scheme common for light and dark mode */\n",
       "  --sklearn-color-text: black;\n",
       "  --sklearn-color-line: gray;\n",
       "  /* Definition of color scheme for unfitted estimators */\n",
       "  --sklearn-color-unfitted-level-0: #fff5e6;\n",
       "  --sklearn-color-unfitted-level-1: #f6e4d2;\n",
       "  --sklearn-color-unfitted-level-2: #ffe0b3;\n",
       "  --sklearn-color-unfitted-level-3: chocolate;\n",
       "  /* Definition of color scheme for fitted estimators */\n",
       "  --sklearn-color-fitted-level-0: #f0f8ff;\n",
       "  --sklearn-color-fitted-level-1: #d4ebff;\n",
       "  --sklearn-color-fitted-level-2: #b3dbfd;\n",
       "  --sklearn-color-fitted-level-3: cornflowerblue;\n",
       "\n",
       "  /* Specific color for light theme */\n",
       "  --sklearn-color-text-on-default-background: var(--sg-text-color, var(--theme-code-foreground, var(--jp-content-font-color1, black)));\n",
       "  --sklearn-color-background: var(--sg-background-color, var(--theme-background, var(--jp-layout-color0, white)));\n",
       "  --sklearn-color-border-box: var(--sg-text-color, var(--theme-code-foreground, var(--jp-content-font-color1, black)));\n",
       "  --sklearn-color-icon: #696969;\n",
       "\n",
       "  @media (prefers-color-scheme: dark) {\n",
       "    /* Redefinition of color scheme for dark theme */\n",
       "    --sklearn-color-text-on-default-background: var(--sg-text-color, var(--theme-code-foreground, var(--jp-content-font-color1, white)));\n",
       "    --sklearn-color-background: var(--sg-background-color, var(--theme-background, var(--jp-layout-color0, #111)));\n",
       "    --sklearn-color-border-box: var(--sg-text-color, var(--theme-code-foreground, var(--jp-content-font-color1, white)));\n",
       "    --sklearn-color-icon: #878787;\n",
       "  }\n",
       "}\n",
       "\n",
       "#sk-container-id-1 {\n",
       "  color: var(--sklearn-color-text);\n",
       "}\n",
       "\n",
       "#sk-container-id-1 pre {\n",
       "  padding: 0;\n",
       "}\n",
       "\n",
       "#sk-container-id-1 input.sk-hidden--visually {\n",
       "  border: 0;\n",
       "  clip: rect(1px 1px 1px 1px);\n",
       "  clip: rect(1px, 1px, 1px, 1px);\n",
       "  height: 1px;\n",
       "  margin: -1px;\n",
       "  overflow: hidden;\n",
       "  padding: 0;\n",
       "  position: absolute;\n",
       "  width: 1px;\n",
       "}\n",
       "\n",
       "#sk-container-id-1 div.sk-dashed-wrapped {\n",
       "  border: 1px dashed var(--sklearn-color-line);\n",
       "  margin: 0 0.4em 0.5em 0.4em;\n",
       "  box-sizing: border-box;\n",
       "  padding-bottom: 0.4em;\n",
       "  background-color: var(--sklearn-color-background);\n",
       "}\n",
       "\n",
       "#sk-container-id-1 div.sk-container {\n",
       "  /* jupyter's `normalize.less` sets `[hidden] { display: none; }`\n",
       "     but bootstrap.min.css set `[hidden] { display: none !important; }`\n",
       "     so we also need the `!important` here to be able to override the\n",
       "     default hidden behavior on the sphinx rendered scikit-learn.org.\n",
       "     See: https://github.com/scikit-learn/scikit-learn/issues/21755 */\n",
       "  display: inline-block !important;\n",
       "  position: relative;\n",
       "}\n",
       "\n",
       "#sk-container-id-1 div.sk-text-repr-fallback {\n",
       "  display: none;\n",
       "}\n",
       "\n",
       "div.sk-parallel-item,\n",
       "div.sk-serial,\n",
       "div.sk-item {\n",
       "  /* draw centered vertical line to link estimators */\n",
       "  background-image: linear-gradient(var(--sklearn-color-text-on-default-background), var(--sklearn-color-text-on-default-background));\n",
       "  background-size: 2px 100%;\n",
       "  background-repeat: no-repeat;\n",
       "  background-position: center center;\n",
       "}\n",
       "\n",
       "/* Parallel-specific style estimator block */\n",
       "\n",
       "#sk-container-id-1 div.sk-parallel-item::after {\n",
       "  content: \"\";\n",
       "  width: 100%;\n",
       "  border-bottom: 2px solid var(--sklearn-color-text-on-default-background);\n",
       "  flex-grow: 1;\n",
       "}\n",
       "\n",
       "#sk-container-id-1 div.sk-parallel {\n",
       "  display: flex;\n",
       "  align-items: stretch;\n",
       "  justify-content: center;\n",
       "  background-color: var(--sklearn-color-background);\n",
       "  position: relative;\n",
       "}\n",
       "\n",
       "#sk-container-id-1 div.sk-parallel-item {\n",
       "  display: flex;\n",
       "  flex-direction: column;\n",
       "}\n",
       "\n",
       "#sk-container-id-1 div.sk-parallel-item:first-child::after {\n",
       "  align-self: flex-end;\n",
       "  width: 50%;\n",
       "}\n",
       "\n",
       "#sk-container-id-1 div.sk-parallel-item:last-child::after {\n",
       "  align-self: flex-start;\n",
       "  width: 50%;\n",
       "}\n",
       "\n",
       "#sk-container-id-1 div.sk-parallel-item:only-child::after {\n",
       "  width: 0;\n",
       "}\n",
       "\n",
       "/* Serial-specific style estimator block */\n",
       "\n",
       "#sk-container-id-1 div.sk-serial {\n",
       "  display: flex;\n",
       "  flex-direction: column;\n",
       "  align-items: center;\n",
       "  background-color: var(--sklearn-color-background);\n",
       "  padding-right: 1em;\n",
       "  padding-left: 1em;\n",
       "}\n",
       "\n",
       "\n",
       "/* Toggleable style: style used for estimator/Pipeline/ColumnTransformer box that is\n",
       "clickable and can be expanded/collapsed.\n",
       "- Pipeline and ColumnTransformer use this feature and define the default style\n",
       "- Estimators will overwrite some part of the style using the `sk-estimator` class\n",
       "*/\n",
       "\n",
       "/* Pipeline and ColumnTransformer style (default) */\n",
       "\n",
       "#sk-container-id-1 div.sk-toggleable {\n",
       "  /* Default theme specific background. It is overwritten whether we have a\n",
       "  specific estimator or a Pipeline/ColumnTransformer */\n",
       "  background-color: var(--sklearn-color-background);\n",
       "}\n",
       "\n",
       "/* Toggleable label */\n",
       "#sk-container-id-1 label.sk-toggleable__label {\n",
       "  cursor: pointer;\n",
       "  display: block;\n",
       "  width: 100%;\n",
       "  margin-bottom: 0;\n",
       "  padding: 0.5em;\n",
       "  box-sizing: border-box;\n",
       "  text-align: center;\n",
       "}\n",
       "\n",
       "#sk-container-id-1 label.sk-toggleable__label-arrow:before {\n",
       "  /* Arrow on the left of the label */\n",
       "  content: \"▸\";\n",
       "  float: left;\n",
       "  margin-right: 0.25em;\n",
       "  color: var(--sklearn-color-icon);\n",
       "}\n",
       "\n",
       "#sk-container-id-1 label.sk-toggleable__label-arrow:hover:before {\n",
       "  color: var(--sklearn-color-text);\n",
       "}\n",
       "\n",
       "/* Toggleable content - dropdown */\n",
       "\n",
       "#sk-container-id-1 div.sk-toggleable__content {\n",
       "  max-height: 0;\n",
       "  max-width: 0;\n",
       "  overflow: hidden;\n",
       "  text-align: left;\n",
       "  /* unfitted */\n",
       "  background-color: var(--sklearn-color-unfitted-level-0);\n",
       "}\n",
       "\n",
       "#sk-container-id-1 div.sk-toggleable__content.fitted {\n",
       "  /* fitted */\n",
       "  background-color: var(--sklearn-color-fitted-level-0);\n",
       "}\n",
       "\n",
       "#sk-container-id-1 div.sk-toggleable__content pre {\n",
       "  margin: 0.2em;\n",
       "  border-radius: 0.25em;\n",
       "  color: var(--sklearn-color-text);\n",
       "  /* unfitted */\n",
       "  background-color: var(--sklearn-color-unfitted-level-0);\n",
       "}\n",
       "\n",
       "#sk-container-id-1 div.sk-toggleable__content.fitted pre {\n",
       "  /* unfitted */\n",
       "  background-color: var(--sklearn-color-fitted-level-0);\n",
       "}\n",
       "\n",
       "#sk-container-id-1 input.sk-toggleable__control:checked~div.sk-toggleable__content {\n",
       "  /* Expand drop-down */\n",
       "  max-height: 200px;\n",
       "  max-width: 100%;\n",
       "  overflow: auto;\n",
       "}\n",
       "\n",
       "#sk-container-id-1 input.sk-toggleable__control:checked~label.sk-toggleable__label-arrow:before {\n",
       "  content: \"▾\";\n",
       "}\n",
       "\n",
       "/* Pipeline/ColumnTransformer-specific style */\n",
       "\n",
       "#sk-container-id-1 div.sk-label input.sk-toggleable__control:checked~label.sk-toggleable__label {\n",
       "  color: var(--sklearn-color-text);\n",
       "  background-color: var(--sklearn-color-unfitted-level-2);\n",
       "}\n",
       "\n",
       "#sk-container-id-1 div.sk-label.fitted input.sk-toggleable__control:checked~label.sk-toggleable__label {\n",
       "  background-color: var(--sklearn-color-fitted-level-2);\n",
       "}\n",
       "\n",
       "/* Estimator-specific style */\n",
       "\n",
       "/* Colorize estimator box */\n",
       "#sk-container-id-1 div.sk-estimator input.sk-toggleable__control:checked~label.sk-toggleable__label {\n",
       "  /* unfitted */\n",
       "  background-color: var(--sklearn-color-unfitted-level-2);\n",
       "}\n",
       "\n",
       "#sk-container-id-1 div.sk-estimator.fitted input.sk-toggleable__control:checked~label.sk-toggleable__label {\n",
       "  /* fitted */\n",
       "  background-color: var(--sklearn-color-fitted-level-2);\n",
       "}\n",
       "\n",
       "#sk-container-id-1 div.sk-label label.sk-toggleable__label,\n",
       "#sk-container-id-1 div.sk-label label {\n",
       "  /* The background is the default theme color */\n",
       "  color: var(--sklearn-color-text-on-default-background);\n",
       "}\n",
       "\n",
       "/* On hover, darken the color of the background */\n",
       "#sk-container-id-1 div.sk-label:hover label.sk-toggleable__label {\n",
       "  color: var(--sklearn-color-text);\n",
       "  background-color: var(--sklearn-color-unfitted-level-2);\n",
       "}\n",
       "\n",
       "/* Label box, darken color on hover, fitted */\n",
       "#sk-container-id-1 div.sk-label.fitted:hover label.sk-toggleable__label.fitted {\n",
       "  color: var(--sklearn-color-text);\n",
       "  background-color: var(--sklearn-color-fitted-level-2);\n",
       "}\n",
       "\n",
       "/* Estimator label */\n",
       "\n",
       "#sk-container-id-1 div.sk-label label {\n",
       "  font-family: monospace;\n",
       "  font-weight: bold;\n",
       "  display: inline-block;\n",
       "  line-height: 1.2em;\n",
       "}\n",
       "\n",
       "#sk-container-id-1 div.sk-label-container {\n",
       "  text-align: center;\n",
       "}\n",
       "\n",
       "/* Estimator-specific */\n",
       "#sk-container-id-1 div.sk-estimator {\n",
       "  font-family: monospace;\n",
       "  border: 1px dotted var(--sklearn-color-border-box);\n",
       "  border-radius: 0.25em;\n",
       "  box-sizing: border-box;\n",
       "  margin-bottom: 0.5em;\n",
       "  /* unfitted */\n",
       "  background-color: var(--sklearn-color-unfitted-level-0);\n",
       "}\n",
       "\n",
       "#sk-container-id-1 div.sk-estimator.fitted {\n",
       "  /* fitted */\n",
       "  background-color: var(--sklearn-color-fitted-level-0);\n",
       "}\n",
       "\n",
       "/* on hover */\n",
       "#sk-container-id-1 div.sk-estimator:hover {\n",
       "  /* unfitted */\n",
       "  background-color: var(--sklearn-color-unfitted-level-2);\n",
       "}\n",
       "\n",
       "#sk-container-id-1 div.sk-estimator.fitted:hover {\n",
       "  /* fitted */\n",
       "  background-color: var(--sklearn-color-fitted-level-2);\n",
       "}\n",
       "\n",
       "/* Specification for estimator info (e.g. \"i\" and \"?\") */\n",
       "\n",
       "/* Common style for \"i\" and \"?\" */\n",
       "\n",
       ".sk-estimator-doc-link,\n",
       "a:link.sk-estimator-doc-link,\n",
       "a:visited.sk-estimator-doc-link {\n",
       "  float: right;\n",
       "  font-size: smaller;\n",
       "  line-height: 1em;\n",
       "  font-family: monospace;\n",
       "  background-color: var(--sklearn-color-background);\n",
       "  border-radius: 1em;\n",
       "  height: 1em;\n",
       "  width: 1em;\n",
       "  text-decoration: none !important;\n",
       "  margin-left: 1ex;\n",
       "  /* unfitted */\n",
       "  border: var(--sklearn-color-unfitted-level-1) 1pt solid;\n",
       "  color: var(--sklearn-color-unfitted-level-1);\n",
       "}\n",
       "\n",
       ".sk-estimator-doc-link.fitted,\n",
       "a:link.sk-estimator-doc-link.fitted,\n",
       "a:visited.sk-estimator-doc-link.fitted {\n",
       "  /* fitted */\n",
       "  border: var(--sklearn-color-fitted-level-1) 1pt solid;\n",
       "  color: var(--sklearn-color-fitted-level-1);\n",
       "}\n",
       "\n",
       "/* On hover */\n",
       "div.sk-estimator:hover .sk-estimator-doc-link:hover,\n",
       ".sk-estimator-doc-link:hover,\n",
       "div.sk-label-container:hover .sk-estimator-doc-link:hover,\n",
       ".sk-estimator-doc-link:hover {\n",
       "  /* unfitted */\n",
       "  background-color: var(--sklearn-color-unfitted-level-3);\n",
       "  color: var(--sklearn-color-background);\n",
       "  text-decoration: none;\n",
       "}\n",
       "\n",
       "div.sk-estimator.fitted:hover .sk-estimator-doc-link.fitted:hover,\n",
       ".sk-estimator-doc-link.fitted:hover,\n",
       "div.sk-label-container:hover .sk-estimator-doc-link.fitted:hover,\n",
       ".sk-estimator-doc-link.fitted:hover {\n",
       "  /* fitted */\n",
       "  background-color: var(--sklearn-color-fitted-level-3);\n",
       "  color: var(--sklearn-color-background);\n",
       "  text-decoration: none;\n",
       "}\n",
       "\n",
       "/* Span, style for the box shown on hovering the info icon */\n",
       ".sk-estimator-doc-link span {\n",
       "  display: none;\n",
       "  z-index: 9999;\n",
       "  position: relative;\n",
       "  font-weight: normal;\n",
       "  right: .2ex;\n",
       "  padding: .5ex;\n",
       "  margin: .5ex;\n",
       "  width: min-content;\n",
       "  min-width: 20ex;\n",
       "  max-width: 50ex;\n",
       "  color: var(--sklearn-color-text);\n",
       "  box-shadow: 2pt 2pt 4pt #999;\n",
       "  /* unfitted */\n",
       "  background: var(--sklearn-color-unfitted-level-0);\n",
       "  border: .5pt solid var(--sklearn-color-unfitted-level-3);\n",
       "}\n",
       "\n",
       ".sk-estimator-doc-link.fitted span {\n",
       "  /* fitted */\n",
       "  background: var(--sklearn-color-fitted-level-0);\n",
       "  border: var(--sklearn-color-fitted-level-3);\n",
       "}\n",
       "\n",
       ".sk-estimator-doc-link:hover span {\n",
       "  display: block;\n",
       "}\n",
       "\n",
       "/* \"?\"-specific style due to the `<a>` HTML tag */\n",
       "\n",
       "#sk-container-id-1 a.estimator_doc_link {\n",
       "  float: right;\n",
       "  font-size: 1rem;\n",
       "  line-height: 1em;\n",
       "  font-family: monospace;\n",
       "  background-color: var(--sklearn-color-background);\n",
       "  border-radius: 1rem;\n",
       "  height: 1rem;\n",
       "  width: 1rem;\n",
       "  text-decoration: none;\n",
       "  /* unfitted */\n",
       "  color: var(--sklearn-color-unfitted-level-1);\n",
       "  border: var(--sklearn-color-unfitted-level-1) 1pt solid;\n",
       "}\n",
       "\n",
       "#sk-container-id-1 a.estimator_doc_link.fitted {\n",
       "  /* fitted */\n",
       "  border: var(--sklearn-color-fitted-level-1) 1pt solid;\n",
       "  color: var(--sklearn-color-fitted-level-1);\n",
       "}\n",
       "\n",
       "/* On hover */\n",
       "#sk-container-id-1 a.estimator_doc_link:hover {\n",
       "  /* unfitted */\n",
       "  background-color: var(--sklearn-color-unfitted-level-3);\n",
       "  color: var(--sklearn-color-background);\n",
       "  text-decoration: none;\n",
       "}\n",
       "\n",
       "#sk-container-id-1 a.estimator_doc_link.fitted:hover {\n",
       "  /* fitted */\n",
       "  background-color: var(--sklearn-color-fitted-level-3);\n",
       "}\n",
       "</style><div id=\"sk-container-id-1\" class=\"sk-top-container\"><div class=\"sk-text-repr-fallback\"><pre>RandomForestClassifier(random_state=42)</pre><b>In a Jupyter environment, please rerun this cell to show the HTML representation or trust the notebook. <br />On GitHub, the HTML representation is unable to render, please try loading this page with nbviewer.org.</b></div><div class=\"sk-container\" hidden><div class=\"sk-item\"><div class=\"sk-estimator fitted sk-toggleable\"><input class=\"sk-toggleable__control sk-hidden--visually\" id=\"sk-estimator-id-1\" type=\"checkbox\" checked><label for=\"sk-estimator-id-1\" class=\"sk-toggleable__label fitted sk-toggleable__label-arrow fitted\">&nbsp;&nbsp;RandomForestClassifier<a class=\"sk-estimator-doc-link fitted\" rel=\"noreferrer\" target=\"_blank\" href=\"https://scikit-learn.org/1.4/modules/generated/sklearn.ensemble.RandomForestClassifier.html\">?<span>Documentation for RandomForestClassifier</span></a><span class=\"sk-estimator-doc-link fitted\">i<span>Fitted</span></span></label><div class=\"sk-toggleable__content fitted\"><pre>RandomForestClassifier(random_state=42)</pre></div> </div></div></div></div>"
      ],
      "text/plain": [
       "RandomForestClassifier(random_state=42)"
      ]
     },
     "execution_count": 8,
     "metadata": {},
     "output_type": "execute_result"
    }
   ],
   "source": [
    "#Train Model\n",
    "X_train, X_test, y_train, y_test = train_test_split(X, y, test_size=0.2, random_state=42)\n",
    "model = RandomForestClassifier(n_estimators=100, random_state=42)\n",
    "model.fit(X_train, y_train)"
   ]
  },
  {
   "cell_type": "code",
   "execution_count": 9,
   "id": "cb1f5fcb-390d-45d2-98ea-b581a470971a",
   "metadata": {},
   "outputs": [
    {
     "name": "stdout",
     "output_type": "stream",
     "text": [
      "              precision    recall  f1-score   support\n",
      "\n",
      "           0       0.98      1.00      0.99     19547\n",
      "           1       0.06      0.01      0.02       453\n",
      "\n",
      "    accuracy                           0.97     20000\n",
      "   macro avg       0.52      0.50      0.50     20000\n",
      "weighted avg       0.96      0.97      0.97     20000\n",
      "\n"
     ]
    }
   ],
   "source": [
    "#Evaluating\n",
    "y_pred = model.predict(X_test)\n",
    "print(classification_report(y_test, y_pred))"
   ]
  },
  {
   "cell_type": "markdown",
   "id": "2829a838-499c-4d0c-91ba-440e154b6e1c",
   "metadata": {},
   "source": [
    "A Random Forest model was built using email text, version, hour, weekday, country, and past purchases. It predicts clicks with 97% accuracy, though click recall is low (1%) due to data imbalance."
   ]
  },
  {
   "cell_type": "markdown",
   "id": "83f73de5-ad00-4b72-8f71-d489f22fddbe",
   "metadata": {},
   "source": [
    "## Q3: Model Improvement\n",
    "\n",
    "Estimate how much the model improves click-through rate vs. random sending.\n",
    "\n",
    "### Method\n",
    "The model predicts click probabilities for each user. We simulate targeting the top 20% of users with the highest probabilities and calculate their click rate, comparing it to the baseline (random sending). An A/B test will split users into random and model-targeted groups to measure real-world improvement."
   ]
  },
  {
   "cell_type": "code",
   "execution_count": 10,
   "id": "120515eb-d048-4f75-b1f5-2b9a3539459a",
   "metadata": {},
   "outputs": [],
   "source": [
    "baseline_click_rate = click_rate / 100"
   ]
  },
  {
   "cell_type": "code",
   "execution_count": 11,
   "id": "ea12ef53-d8b2-40b0-a251-1fbb5645db87",
   "metadata": {},
   "outputs": [],
   "source": [
    "probs = model.predict_proba(X_test)[:, 1]\n",
    "top_20_percent = np.percentile(probs, 80)\n",
    "targeted_clicks = sum(y_test[probs >= top_20_percent])\n",
    "targeted_users = sum(probs >= top_20_percent)\n",
    "model_click_rate = targeted_clicks / targeted_users if targeted_users > 0 else 0\n",
    "improvement = model_click_rate - baseline_click_rate"
   ]
  },
  {
   "cell_type": "code",
   "execution_count": 12,
   "id": "9f87d903-6bdc-4fa1-8808-bbaf6f55914a",
   "metadata": {},
   "outputs": [
    {
     "name": "stdout",
     "output_type": "stream",
     "text": [
      "Baseline click rate: 0.0212\n",
      "Model click rate: 0.0413\n",
      "Improvement: 0.0201 (94.67%)\n",
      "Test: A/B test random vs. model-targeted emails.\n"
     ]
    }
   ],
   "source": [
    "print(f\"Baseline click rate: {baseline_click_rate:.4f}\")\n",
    "print(f\"Model click rate: {model_click_rate:.4f}\")\n",
    "print(f\"Improvement: {improvement:.4f} ({(improvement/baseline_click_rate)*100:.2f}%)\")\n",
    "print(\"Test: A/B test random vs. model-targeted emails.\")"
   ]
  },
  {
   "cell_type": "markdown",
   "id": "7011c142-7d08-43d8-b8e2-7dcf3e43a367",
   "metadata": {},
   "source": [
    "#### Improvement of Model\n",
    "The model increases the click rate from 2.12% (random) to 4.13% (targeting top 20%), a 94.67% relative improvement. Testing via an A/B test (random vs. model-targeted emails) was proposed."
   ]
  },
  {
   "cell_type": "markdown",
   "id": "8a12d59c-7fac-4da6-a6eb-7c54d33f2340",
   "metadata": {},
   "source": [
    "## Q4: User Segment Patterns\n",
    "Analyze open/click rates by email type and country. "
   ]
  },
  {
   "cell_type": "code",
   "execution_count": 13,
   "id": "09d72e77-cc4f-42d3-b694-4cbba7e1b2ab",
   "metadata": {},
   "outputs": [],
   "source": [
    "# Segment stats\n",
    "segment_summary = email_table.groupby(['email_text', 'email_version', 'user_country']).agg(\n",
    "    total_emails=('email_id', 'count'),\n",
    "    opens=('opened', 'sum'),\n",
    "    clicks=('clicked', 'sum')\n",
    ").reset_index()\n",
    "\n",
    "segment_summary['open_rate'] = segment_summary['opens'] / segment_summary['total_emails']\n",
    "segment_summary['click_rate'] = segment_summary['clicks'] / segment_summary['total_emails']"
   ]
  },
  {
   "cell_type": "code",
   "execution_count": 14,
   "id": "34c2ffc1-3f13-442b-8002-6d3fc7158781",
   "metadata": {},
   "outputs": [
    {
     "name": "stdout",
     "output_type": "stream",
     "text": [
      "Top Segments:\n",
      "     email_text email_version user_country  open_rate  click_rate\n",
      "15  short_email  personalized           US   0.165363    0.036013\n",
      "14  short_email  personalized           UK   0.159831    0.035786\n",
      "7    long_email  personalized           US   0.128608    0.027065\n",
      "6    long_email  personalized           UK   0.130226    0.026405\n",
      "10  short_email       generic           UK   0.103118    0.020379\n"
     ]
    }
   ],
   "source": [
    "#Top Segments\n",
    "print(\"Top Segments:\")\n",
    "print(segment_summary.sort_values('click_rate', ascending=False)[\n",
    "    ['email_text', 'email_version', 'user_country', 'open_rate', 'click_rate']\n",
    "].head())"
   ]
  },
  {
   "cell_type": "code",
   "execution_count": 15,
   "id": "59bbd6d8-3b1d-4876-8e4f-5ab5e50b21bf",
   "metadata": {},
   "outputs": [
    {
     "name": "stdout",
     "output_type": "stream",
     "text": [
      "\n",
      "Feature Importance:\n",
      "                 feature  importance\n",
      "2                   hour    0.418248\n",
      "5    user_past_purchases    0.294740\n",
      "3        weekday_encoded    0.188889\n",
      "4   user_country_encoded    0.057265\n",
      "0     email_text_encoded    0.028886\n",
      "1  email_version_encoded    0.011971\n"
     ]
    }
   ],
   "source": [
    "# Feature importance\n",
    "importance = pd.DataFrame({\n",
    "    'feature': features,\n",
    "    'importance': model.feature_importances_\n",
    "}).sort_values('importance', ascending=False)\n",
    "print(\"\\nFeature Importance:\")\n",
    "print(importance)"
   ]
  },
  {
   "cell_type": "markdown",
   "id": "52f403b7-cded-44b5-9b47-cc4a21807973",
   "metadata": {},
   "source": [
    "### Click Rates by Country"
   ]
  },
  {
   "cell_type": "code",
   "execution_count": 16,
   "id": "4f820447-ebd3-435c-84ea-6573d10fc2f8",
   "metadata": {},
   "outputs": [
    {
     "data": {
      "image/png": "[encoded data removed]",
      "text/plain": [
       "<Figure size 1000x600 with 1 Axes>"
      ]
     },
     "metadata": {},
     "output_type": "display_data"
    }
   ],
   "source": [
    "plt.figure(figsize=(10, 6))\n",
    "country_summary = email_table.groupby('user_country')['clicked'].mean()\n",
    "country_summary.plot(kind='bar', color='lightblue')\n",
    "plt.title('Click Rate by Country')\n",
    "plt.ylabel('Click Rate')\n",
    "plt.xlabel('Country')\n",
    "plt.tight_layout()\n",
    "plt.savefig('click_rate_by_country.png')\n",
    "plt.show()"
   ]
  },
  {
   "cell_type": "markdown",
   "id": "3f2f3199-ab95-4a16-b59c-dd57a80b9f1f",
   "metadata": {},
   "source": [
    "### Patterns and Visualization\n",
    "Short, personalized emails to US (3.60%) and UK (3.58%) users had the highest click rates, followed by long, personalized emails (US: 2.71%, UK: 2.64%). Generic emails underperformed (e.g., 2.04% for UK short emails).\n",
    "\n",
    "**Click Rate by Country Plot**:\n",
    "The bar chart shows click rates across countries, with US and UK leading, suggesting stronger engagement in these markets. Lower rates elsewhere may reflect cultural or market differences."
   ]
  },
  {
   "cell_type": "markdown",
   "id": "6c3b38c4-5700-4182-a250-7df15b1ee354",
   "metadata": {},
   "source": [
    "## Conclusion\n",
    "This analysis evaluates the email marketing campaign, builds a predictive model, and identifies optimization opportunities."
   ]
  },
  {
   "cell_type": "markdown",
   "id": "997aef55-a642-417f-97e1-0e5c25d97e8b",
   "metadata": {},
   "source": [
    "### Campaign Performance\n",
    "- **Open Rate**: 10.35% of users opened the email, indicating moderate engagement.\n",
    "- **Click-Through Rate**: 2.12% clicked the link, a low but typical baseline for email campaigns."
   ]
  },
  {
   "cell_type": "markdown",
   "id": "3917c165-0b7d-4632-91ce-7557253853d3",
   "metadata": {},
   "source": [
    "### Predictive Model\n",
    "The Random Forest model predicts link clicks with high accuracy (97%) but struggles with the minority class (clicks):\n",
    "- **Precision for clicks**: 6%, meaning many predicted clicks were false positives.\n",
    "- **Recall for clicks**: 1%, indicating the model missed most actual clicks.\n",
    "This suggests clicks are rare and hard to predict, likely due to imbalanced data (only 453 clicks vs. 19,547 non-clicks)."
   ]
  },
  {
   "cell_type": "markdown",
   "id": "6ebec347-9f37-4db2-afbf-19222bbfaea9",
   "metadata": {},
   "source": [
    "### Model Improvement\n",
    "- **Baseline Click Rate**: 2.12% (random sending).\n",
    "- **Model Click Rate**: 4.13% (targeting top 20% by predicted probability).\n",
    "- **Improvement**: 2.01% absolute increase, a 94.67% relative boost.\n",
    "This suggests targeting high-likelihood users could nearly double clicks. An A/B test (random vs. model-targeted emails) is recommended to validate."
   ]
  },
  {
   "cell_type": "markdown",
   "id": "8a7af468-b01e-49e6-8003-5709962be2a6",
   "metadata": {},
   "source": [
    "### Segment Insights\n",
    "Top-performing segments:\n",
    "- **Short, personalized emails** to US (3.60% click rate) and UK (3.58%) users outperformed others.\n",
    "- **Long, personalized emails** also performed well (US: 2.71%, UK: 2.64%).\n",
    "- Generic emails had lower click rates (e.g., 2.04% for short emails to UK).\n",
    "\n",
    "**Key Drivers**:\n",
    "- **Hour** (42% importance): Timing is critical.\n",
    "- **Past Purchases** (29%): Users with more purchases are more likely to click.\n",
    "- **Weekday** (19%): Day of send matters.\n",
    "- Country, email text, and version had less influence."
   ]
  },
  {
   "cell_type": "markdown",
   "id": "ebd1cba6-c29f-4d75-adc8-0614554375e3",
   "metadata": {},
   "source": [
    "### Limitations and Assumptions\n",
    "- **Data Imbalance**: With only 2.12% clicks, the model struggles to predict rare events (1% recall). Techniques like oversampling could improve this.\n",
    "- **Missing Features**: Subject lines, user demographics, or device data weren’t available, potentially limiting predictions.\n",
    "- **Data Format**: Assumed CSV inputs; database integration may require adjustments.\n",
    "- **Generalization**: Results are based on this campaign; new campaigns may vary.\n",
    "\n",
    "### Recommendations\n",
    "- **A/B Test**: Send emails to two groups (random vs. model-targeted top 20%) for 4 weeks, comparing click rates to confirm the 94.67% improvement.\n",
    "- **Model Refinement**: Test oversampling clicks or alternative models (e.g., XGBoost) to improve recall for clicks.\n",
    "- **Campaign Strategy**: Focus on short, personalized emails to US/UK users with high past purchases, sent at optimal hours (to be tested).\n",
    "- **Further Analysis**: Explore click rates by hour or weekday to refine timing, and collect subject line data for future models."
   ]
  },
  {
   "cell_type": "code",
   "execution_count": null,
   "id": "977aadc2-1757-469a-8786-41cc5728a7b4",
   "metadata": {},
   "outputs": [],
   "source": []
  }
 ],
 "metadata": {
  "kernelspec": {
   "display_name": "Python 3 (ipykernel)",
   "language": "python",
   "name": "python3"
  },
  "language_info": {
   "codemirror_mode": {
    "name": "ipython",
    "version": 3
   },
   "file_extension": ".py",
   "mimetype": "text/x-python",
   "name": "python",
   "nbconvert_exporter": "python",
   "pygments_lexer": "ipython3",
   "version": "3.12.7"
  }
 },
 "nbformat": 4,
 "nbformat_minor": 5
}
